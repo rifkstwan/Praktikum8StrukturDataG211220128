{
  "nbformat": 4,
  "nbformat_minor": 0,
  "metadata": {
    "colab": {
      "provenance": []
    },
    "kernelspec": {
      "name": "python3",
      "display_name": "Python 3"
    },
    "language_info": {
      "name": "python"
    }
  },
  "cells": [
    {
      "cell_type": "code",
      "execution_count": 3,
      "metadata": {
        "colab": {
          "base_uri": "https://localhost:8080/"
        },
        "id": "uYER8dt4yHWC",
        "outputId": "0fd0ab16-b5ee-4ab7-e567-44fefd5be9c6"
      },
      "outputs": [
        {
          "output_type": "stream",
          "name": "stdout",
          "text": [
            "Jarak terpendek dari simpul 1 ke simpul 5 adalah 20\n",
            "Rute: 1 -> 3 -> 5\n",
            "\n",
            "Jarak terpendek dari simpul 1 ke setiap simpul lain:\n",
            "simpul 1 ke simpul 0 = 2\n",
            "simpul 1 ke simpul 1 = 0\n",
            "simpul 1 ke simpul 2 = 8\n",
            "simpul 1 ke simpul 3 = 5\n",
            "simpul 1 ke simpul 4 = 15\n",
            "simpul 1 ke simpul 5 = 20\n",
            "simpul 1 ke simpul 6 = 17\n",
            "\n"
          ]
        }
      ],
      "source": [
        "# C. Dijkstra shortest path 2\n",
        "\n",
        "import heapq\n",
        "\n",
        "# Fungsi Dijkstra untuk mencari jarak terpendek dari simpul awal ke semua simpul lainnya\n",
        "def dijkstra(graph, start):\n",
        "    # Inisialisasi jarak dari simpul awal ke setiap simpul\n",
        "    distances = {node: float('infinity') for node in graph}\n",
        "    distances[start] = 0\n",
        "\n",
        "    # Inisialisasi simpul sebelumnya dalam rute terpendek\n",
        "    previous_nodes = {node: None for node in graph}\n",
        "\n",
        "    # Inisialisasi priority queue dengan tuple (jarak, simpul)\n",
        "    priority_queue = [(0, start)]\n",
        "\n",
        "    while priority_queue:\n",
        "        # Ambil simpul dengan jarak terpendek dari priority queue\n",
        "        current_distance, current_node = heapq.heappop(priority_queue)\n",
        "\n",
        "        # Jika jarak saat ini lebih besar dari jarak yang sudah dihitung, abaikan simpul tersebut\n",
        "        if current_distance > distances[current_node]:\n",
        "            continue\n",
        "\n",
        "        # Periksa tetangga-tetangga dari simpul saat ini\n",
        "        for neighbor, weight in graph[current_node].items():\n",
        "            # Hitung jarak baru melalui simpul saat ini\n",
        "            distance = current_distance + weight\n",
        "\n",
        "            # Jika jarak baru lebih kecil dari jarak yang sudah dihitung, update informasi\n",
        "            if distance < distances[neighbor]:\n",
        "                distances[neighbor] = distance\n",
        "                previous_nodes[neighbor] = current_node\n",
        "\n",
        "                # Masukkan tuple (jarak baru, tetangga) ke dalam priority queue\n",
        "                heapq.heappush(priority_queue, (distance, neighbor))\n",
        "\n",
        "    # Kembalikan jarak terpendek dan simpul sebelumnya dalam rute\n",
        "    return distances, previous_nodes\n",
        "\n",
        "# Fungsi untuk mencetak rute terpendek dari simpul awal ke simpul akhir\n",
        "def print_shortest_path(graph, start, end, distances, previous_nodes):\n",
        "    path = []\n",
        "    current_node = end\n",
        "\n",
        "    # Bangun rute dari simpul akhir ke simpul awal\n",
        "    while current_node is not None:\n",
        "        path.append(current_node)\n",
        "        current_node = previous_nodes[current_node]\n",
        "    path.reverse()\n",
        "\n",
        "    # Cetak hasil\n",
        "    print(f\"Jarak terpendek dari simpul {start} ke simpul {end} adalah {distances[end]}\")\n",
        "    print(f\"Rute: {' -> '.join(map(str, path))}\")\n",
        "\n",
        "# Definisi graf dengan jarak yang telah diberikan\n",
        "graf = {\n",
        "    0: {0: 0, 1: 2, 2: 6},\n",
        "    1: {3: 5, 0:2},\n",
        "    2: {3: 8, 0: 6},\n",
        "    3: {4: 10, 5: 15, 1: 5, 2: 8},\n",
        "    4: {6: 2, 3: 10, 5: 6},\n",
        "    5: {4: 6, 6: 6, 3: 15},\n",
        "    6: {4: 2, 5: 6}\n",
        "}\n",
        "\n",
        "# Simpul awal dan akhir\n",
        "simpul_awal = 1\n",
        "simpul_akhir = 5\n",
        "\n",
        "# Panggil fungsi Dijkstra\n",
        "jarak_terpendek, previous_nodes = dijkstra(graf, simpul_awal)\n",
        "\n",
        "# Tampilkan rute dari simpul awal ke simpul akhir\n",
        "print_shortest_path(graf, simpul_awal, simpul_akhir, jarak_terpendek, previous_nodes)\n",
        "\n",
        "# Tampilkan hasil\n",
        "print(f\"\\nJarak terpendek dari simpul {simpul_awal} ke setiap simpul lain:\")\n",
        "for simpul, jarak in jarak_terpendek.items():\n",
        "    print(f\"simpul {simpul_awal} ke simpul {simpul} = {jarak}\")\n",
        "print()"
      ]
    }
  ]
}